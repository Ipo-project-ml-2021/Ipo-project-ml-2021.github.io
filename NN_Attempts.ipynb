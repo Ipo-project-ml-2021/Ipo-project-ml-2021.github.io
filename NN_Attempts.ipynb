{
 "cells": [
  {
   "cell_type": "code",
   "execution_count": 243,
   "metadata": {},
   "outputs": [],
   "source": [
    "import pandas as pd\n",
    "import sklearn as sk\n",
    "import numpy as np\n",
    "from sklearn.neural_network import MLPClassifier\n",
    "from sklearn.model_selection import train_test_split\n",
    "from sklearn.preprocessing import StandardScaler\n",
    "from sklearn.pipeline import make_pipeline\n",
    "from sklearn.linear_model import LinearRegression\n",
    "import matplotlib.pyplot as plt\n",
    "from sklearn.metrics import confusion_matrix, accuracy_score"
   ]
  },
  {
   "cell_type": "code",
   "execution_count": 238,
   "metadata": {
    "scrolled": true
   },
   "outputs": [
    {
     "name": "stdout",
     "output_type": "stream",
     "text": [
      "Average score for relu, sgd, and 1000 iters: 0.618812\n",
      "Average score for relu, sgd, and 1500 iters: 0.617327\n",
      "Average score for relu, sgd, and 2000 iters: 0.616337\n",
      "Average score for relu, sgd, and 5000 iters: 0.618812\n",
      "Average score for relu, lbfgs, and 5000 iters: 0.485149\n",
      "Average score for relu, adam, and 5000 iters: 0.567822\n",
      "Average score for tanh, sgd, and 1000 iters: 0.609406\n",
      "Average score for tanh, sgd, and 1500 iters: 0.618812\n",
      "Average score for tanh, sgd, and 2000 iters: 0.618317\n",
      "Average score for tanh, sgd, and 5000 iters: 0.618812\n",
      "Average score for tanh, adam, and 5000 iters: 0.60495\n",
      "Average score for tanh, lbfgs, and 5000 iters: 0.505446\n"
     ]
    }
   ],
   "source": [
    "X_orig = pd.read_csv(\"./ipo_data_cleaned.csv\")\n",
    "y = X_orig[\"class\"]\n",
    "X = X_orig.drop(\"class\", axis=1)\n",
    "X = X.drop(\"5\", axis=1)\n",
    "\n",
    "num_runs = 20\n",
    "average = 0\n",
    "for i in range(num_runs):\n",
    "    X_train, X_test, y_train, y_test = train_test_split(X, y, stratify = y)\n",
    "    pipe = make_pipeline(StandardScaler(), MLPClassifier(solver='sgd', max_iter=1000))\n",
    "    pipe.fit(X_train, y_train)\n",
    "    average += pipe.score(X_test, y_test)\n",
    "print(\"Average score for relu, sgd, and 1000 iters: \" + str(round(average / num_runs, 6)))\n",
    "\n",
    "average = 0\n",
    "for i in range(num_runs):\n",
    "    X_train, X_test, y_train, y_test = train_test_split(X, y, stratify = y)\n",
    "    pipe = make_pipeline(StandardScaler(), MLPClassifier(solver='sgd', max_iter=1500))\n",
    "    pipe.fit(X_train, y_train)\n",
    "    average += pipe.score(X_test, y_test)\n",
    "print(\"Average score for relu, sgd, and 1500 iters: \" + str(round(average / num_runs, 6)))\n",
    "\n",
    "average = 0\n",
    "for i in range(num_runs):\n",
    "    X_train, X_test, y_train, y_test = train_test_split(X, y, stratify = y)\n",
    "    pipe = make_pipeline(StandardScaler(), MLPClassifier(solver='sgd', max_iter=2000))\n",
    "    pipe.fit(X_train, y_train)\n",
    "    average += pipe.score(X_test, y_test)\n",
    "print(\"Average score for relu, sgd, and 2000 iters: \" + str(round(average / num_runs, 6)))\n",
    "\n",
    "average = 0\n",
    "for i in range(num_runs):\n",
    "    X_train, X_test, y_train, y_test = train_test_split(X, y, stratify = y)\n",
    "    pipe = make_pipeline(StandardScaler(), MLPClassifier(solver='sgd', max_iter=5000))\n",
    "    pipe.fit(X_train, y_train)\n",
    "    average += pipe.score(X_test, y_test)\n",
    "print(\"Average score for relu, sgd, and 5000 iters: \" + str(round(average / num_runs, 6)))\n",
    "\n",
    "#######################################################################################\n",
    "\n",
    "average = 0\n",
    "for i in range(num_runs):\n",
    "    X_train, X_test, y_train, y_test = train_test_split(X, y, stratify = y)\n",
    "    pipe = make_pipeline(StandardScaler(), MLPClassifier(solver='lbfgs', max_iter=5000))\n",
    "    pipe.fit(X_train, y_train)\n",
    "    average += pipe.score(X_test, y_test)\n",
    "print(\"Average score for relu, lbfgs, and 5000 iters: \" + str(round(average / num_runs, 6)))\n",
    "\n",
    "#######################################################################################\n",
    "\n",
    "average = 0\n",
    "for i in range(num_runs):\n",
    "    X_train, X_test, y_train, y_test = train_test_split(X, y, stratify = y)\n",
    "    pipe = make_pipeline(StandardScaler(), MLPClassifier(solver='adam', max_iter=5000))\n",
    "    pipe.fit(X_train, y_train)\n",
    "    average += pipe.score(X_test, y_test)\n",
    "print(\"Average score for relu, adam, and 5000 iters: \" + str(round(average / num_runs, 6)))\n",
    "\n",
    "#######################################################################################\n",
    "\n",
    "average = 0\n",
    "for i in range(num_runs):\n",
    "    X_train, X_test, y_train, y_test = train_test_split(X, y, stratify = y)\n",
    "    pipe = make_pipeline(StandardScaler(), MLPClassifier(activation='tanh', solver='sgd', max_iter=1000))\n",
    "    pipe.fit(X_train, y_train)\n",
    "    average += pipe.score(X_test, y_test)\n",
    "print(\"Average score for tanh, sgd, and 1000 iters: \" + str(round(average / num_runs, 6)))\n",
    "\n",
    "average = 0\n",
    "for i in range(num_runs):\n",
    "    X_train, X_test, y_train, y_test = train_test_split(X, y, stratify = y)\n",
    "    pipe = make_pipeline(StandardScaler(), MLPClassifier(activation='tanh', solver='sgd', max_iter=1500))\n",
    "    pipe.fit(X_train, y_train)\n",
    "    average += pipe.score(X_test, y_test)\n",
    "print(\"Average score for tanh, sgd, and 1500 iters: \" + str(round(average / num_runs, 6)))\n",
    "\n",
    "average = 0\n",
    "for i in range(num_runs):\n",
    "    X_train, X_test, y_train, y_test = train_test_split(X, y, stratify = y)\n",
    "    pipe = make_pipeline(StandardScaler(), MLPClassifier(activation='tanh', solver='sgd', max_iter=2000))\n",
    "    pipe.fit(X_train, y_train)\n",
    "    average += pipe.score(X_test, y_test)\n",
    "print(\"Average score for tanh, sgd, and 2000 iters: \" + str(round(average / num_runs, 6)))\n",
    "\n",
    "average = 0\n",
    "for i in range(num_runs):\n",
    "    X_train, X_test, y_train, y_test = train_test_split(X, y, stratify = y)\n",
    "    pipe = make_pipeline(StandardScaler(), MLPClassifier(activation='tanh', solver='sgd', max_iter=5000))\n",
    "    pipe.fit(X_train, y_train)\n",
    "    average += pipe.score(X_test, y_test)\n",
    "print(\"Average score for tanh, sgd, and 5000 iters: \" + str(round(average / num_runs, 6)))\n",
    "\n",
    "######################################################################################\n",
    "\n",
    "average = 0\n",
    "for i in range(num_runs):\n",
    "    X_train, X_test, y_train, y_test = train_test_split(X, y, stratify = y)\n",
    "    pipe = make_pipeline(StandardScaler(), MLPClassifier(activation='tanh', solver='adam', max_iter=5000))\n",
    "    pipe.fit(X_train, y_train)\n",
    "    average += pipe.score(X_test, y_test)\n",
    "print(\"Average score for tanh, adam, and 5000 iters: \" + str(round(average / num_runs, 6)))\n",
    "\n",
    "######################################################################################\n",
    "\n",
    "average = 0\n",
    "for i in range(num_runs):\n",
    "    X_train, X_test, y_train, y_test = train_test_split(X, y, stratify = y)\n",
    "    pipe = make_pipeline(StandardScaler(), MLPClassifier(activation='tanh', solver='lbfgs', max_iter=5000))\n",
    "    pipe.fit(X_train, y_train)\n",
    "    average += pipe.score(X_test, y_test)\n",
    "print(\"Average score for tanh, lbfgs, and 5000 iters: \" + str(round(average / num_runs, 6)))"
   ]
  },
  {
   "cell_type": "code",
   "execution_count": 258,
   "metadata": {
    "scrolled": false
   },
   "outputs": [
    {
     "data": {
      "text/plain": [
       "([<matplotlib.axis.YTick at 0x1dcf07c38c8>,\n",
       "  <matplotlib.axis.YTick at 0x1dcf0713188>,\n",
       "  <matplotlib.axis.YTick at 0x1dcf07bc048>],\n",
       " <a list of 3 Text yticklabel objects>)"
      ]
     },
     "execution_count": 258,
     "metadata": {},
     "output_type": "execute_result"
    },
    {
     "data": {
      "image/png": "[encoded data removed]",
      "text/plain": [
       "<Figure size 432x288 with 2 Axes>"
      ]
     },
     "metadata": {
      "needs_background": "light"
     },
     "output_type": "display_data"
    }
   ],
   "source": [
    "X_train, X_test, y_train, y_test = train_test_split(X, y, stratify = y)\n",
    "pipe = make_pipeline(StandardScaler(), MLPClassifier(solver='sgd', max_iter=1000))\n",
    "pipe.fit(X_train, y_train)\n",
    "y_pred = pipe.predict(X_test)\n",
    "plt.imshow(confusion_matrix(y_test, y_pred, normalize='all'))\n",
    "plt.title('Confusion Matrix', fontsize=14)\n",
    "plt.colorbar()\n",
    "data_classes = ['Decrease','Maintain','Increase']\n",
    "plt.xticks(np.arange(3), data_classes, rotation=45, fontsize=12)\n",
    "plt.yticks(np.arange(3), data_classes, fontsize=12)"
   ]
  },
  {
   "cell_type": "code",
   "execution_count": null,
   "metadata": {},
   "outputs": [],
   "source": []
  }
 ],
 "metadata": {
  "kernelspec": {
   "display_name": "Python 3",
   "language": "python",
   "name": "python3"
  },
  "language_info": {
   "codemirror_mode": {
    "name": "ipython",
    "version": 3
   },
   "file_extension": ".py",
   "mimetype": "text/x-python",
   "name": "python",
   "nbconvert_exporter": "python",
   "pygments_lexer": "ipython3",
   "version": "3.7.4"
  }
 },
 "nbformat": 4,
 "nbformat_minor": 2
}
